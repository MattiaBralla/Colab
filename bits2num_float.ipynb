{
  "nbformat": 4,
  "nbformat_minor": 0,
  "metadata": {
    "colab": {
      "provenance": [],
      "collapsed_sections": [],
      "authorship_tag": "ABX9TyMJjDxYF7S12vNjZfiagbOI",
      "include_colab_link": true
    },
    "kernelspec": {
      "name": "python3",
      "display_name": "Python 3"
    },
    "language_info": {
      "name": "python"
    }
  },
  "cells": [
    {
      "cell_type": "markdown",
      "metadata": {
        "id": "view-in-github",
        "colab_type": "text"
      },
      "source": [
        "<a href=\"https://colab.research.google.com/github/MattiaBralla/Colab/blob/main/bits2num_float.ipynb\" target=\"_parent\"><img src=\"https://colab.research.google.com/assets/colab-badge.svg\" alt=\"Open In Colab\"/></a>"
      ]
    },
    {
      "cell_type": "code",
      "source": [
        "def horner(sequenza):\n",
        "  output = 0\n",
        "  for i in range(0,len(sequenza)):\n",
        "    output = output * 2 + sequenza[i]\n",
        "  return output\n",
        "\n",
        "def horner_fraz(sequenza):\n",
        "  numero = 0\n",
        "  for bit in sequenza[::-1]:\n",
        "    numero = numero / 2 + int(bit)\n",
        "  return numero / 2"
      ],
      "metadata": {
        "id": "rmjMe5MqGdql"
      },
      "execution_count": 6,
      "outputs": []
    },
    {
      "cell_type": "code",
      "execution_count": 10,
      "metadata": {
        "colab": {
          "base_uri": "https://localhost:8080/"
        },
        "id": "_XT43nMi_CNh",
        "outputId": "2563a0a8-f2d4-467f-e0d3-65b42a3057bf"
      },
      "outputs": [
        {
          "output_type": "stream",
          "name": "stdout",
          "text": [
            "12.34000015258789\n"
          ]
        }
      ],
      "source": [
        "bits = [0,1,0,0,0,0,0,1,0,1,0,0,0,1,0,1,0,1,1,1,0,0,0,0,1,0,1,0,0,1,0,0]\n",
        "if(bits[0] == 0):\n",
        "  segno = +1.0\n",
        "else:\n",
        "  segno = -1.0\n",
        "bits_esponente = bits[1:9]\n",
        "bits_mantissa = bits[9:32]\n",
        "if(bits_esponente == [0,0,0,0,0,0,0,0]):\n",
        "  esponente = -126.0\n",
        "  mantissa = horner_fraz(bits_mantissa)\n",
        "else:\n",
        "  esponente = horner(bits_esponente) - 127\n",
        "  mantissa = horner_fraz(bits_mantissa) + 1.0\n",
        "\n",
        "print(segno * mantissa * 2 ** esponente)"
      ]
    }
  ]
}